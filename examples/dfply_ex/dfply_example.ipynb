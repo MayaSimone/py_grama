{
 "cells": [
  {
   "cell_type": "markdown",
   "metadata": {},
   "source": [
    "# `dfply` Integration\n",
    "\n",
    "---\n",
    "\n",
    "`grama` is designed to integrate easily with [dfply](https://github.com/kieferk/dfply). Chaining model and data manipulations with pipes allows one to quickly investigate models."
   ]
  },
  {
   "cell_type": "code",
   "execution_count": 1,
   "metadata": {},
   "outputs": [],
   "source": [
    "import grama as gr\n",
    "import seaborn as sns\n",
    "\n",
    "from dfply import *\n",
    "from grama.models import model_cantilever_beam"
   ]
  },
  {
   "cell_type": "markdown",
   "metadata": {},
   "source": [
    "Perform a sinew analysis of the cantilever beam model."
   ]
  },
  {
   "cell_type": "code",
   "execution_count": 2,
   "metadata": {},
   "outputs": [
    {
     "ename": "SyntaxError",
     "evalue": "invalid syntax (<ipython-input-2-0f7d78bff131>, line 6)",
     "output_type": "error",
     "traceback": [
      "\u001b[0;36m  File \u001b[0;32m\"<ipython-input-2-0f7d78bff131>\"\u001b[0;36m, line \u001b[0;32m6\u001b[0m\n\u001b[0;31m    ## Evaluate the model\u001b[0m\n\u001b[0m                         ^\u001b[0m\n\u001b[0;31mSyntaxError\u001b[0m\u001b[0;31m:\u001b[0m invalid syntax\n"
     ]
    }
   ],
   "source": [
    "## Define the base model\n",
    "model = model_cantilever_beam()\n",
    "\n",
    "## Model analysis pipeline\n",
    "df_res = \\\n",
    "    ## Evaluate the model\n",
    "    model >> \\\n",
    "    gr.ev_sinews() >> \\\n",
    "    ## Prepare the resulting data\n",
    "    gather(\"input\", \"x\", model.domain.inputs) >> \\\n",
    "    gather(\"output\", \"y\", model.outputs) >> \\\n",
    "    filter_by(X.y > -np.Inf, X.y < +np.Inf, X.sweep_var == X.input)\n",
    "\n",
    "## Construct the sinew plot\n",
    "sns.relplot(\n",
    "    data=df_res,\n",
    "    x=\"x\",\n",
    "    y=\"y\",\n",
    "    hue=\"sweep_ind\",\n",
    "    col=\"input\",\n",
    "    row=\"output\",\n",
    "    kind=\"line\",\n",
    "    facet_kws=dict(sharex=False, sharey=False)\n",
    ")"
   ]
  }
 ],
 "metadata": {
  "kernelspec": {
   "display_name": "Python 3",
   "language": "python",
   "name": "python3"
  },
  "language_info": {
   "codemirror_mode": {
    "name": "ipython",
    "version": 3
   },
   "file_extension": ".py",
   "mimetype": "text/x-python",
   "name": "python",
   "nbconvert_exporter": "python",
   "pygments_lexer": "ipython3",
   "version": "3.7.4"
  }
 },
 "nbformat": 4,
 "nbformat_minor": 4
}

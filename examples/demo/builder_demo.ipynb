{
 "cells": [
  {
   "cell_type": "markdown",
   "metadata": {},
   "source": [
    "# *grama* Model-Building Demo\n",
    "\n",
    "---\n",
    "\n",
    "*grama* is a *grammar of model analysis*---a language for describing and analyzing mathematical models. Heavily inspired by [ggplot](https://ggplot2.tidyverse.org/index.html), `py_grama` is a Python package that implements *grama* by providing tools for defining and exploring models. \n",
    "\n",
    "This notebook illustrates how one can use *grama* to ___build a fully-defined model___.\n",
    "\n",
    "Note that you will need to install `py_grama`, a fork of `dfply`, and dependencies in order to run this notebook. See the [installation instructions](https://github.com/zdelrosario/py_grama) for details. "
   ]
  },
  {
   "cell_type": "code",
   "execution_count": 1,
   "metadata": {},
   "outputs": [],
   "source": [
    "### Setup\n",
    "from dfply import *\n",
    "import grama as gr\n",
    "import numpy as np\n",
    "import pandas as pd\n",
    "import scipy as sp\n",
    "import seaborn as sns\n",
    "\n",
    "from grama.misc import df_stang\n"
   ]
  },
  {
   "cell_type": "markdown",
   "metadata": {},
   "source": [
    "# Overview\n",
    "\n",
    "---\n",
    "\n",
    "To demonstrate building a *grama* model, we will build a plate buckling model accounting for variable material properties and uncertain loads. A *grama* model has both functions and distributions. We recommend first choosing the relevant functions, identifiying all their inputs (variables), determining which are deterministic or random, then choosing a distribution. We illustrate all of these steps below.\n",
    "\n",
    "Note: I make no claim that the modeling choices below are optimal or even imitable; this document is primarily a demonstration of ***a fully reproducible model-building exercise***. Since all choices made here (bad or good) are documented, the resulting model's provenance is easily traceable.\n"
   ]
  },
  {
   "cell_type": "markdown",
   "metadata": {},
   "source": [
    "# Function\n",
    "\n",
    "---\n"
   ]
  },
  {
   "cell_type": "markdown",
   "metadata": {},
   "source": [
    "Peery [1] gives a simple model for the buckling stress of a plate under compression\n",
    "\n",
    "$$\\sigma_{\\text{buckle}} = \\frac{12E}{\\pi} \\frac{(t/h)^2}{1 - \\mu^2},$$\n",
    "\n",
    "where\n",
    "\n",
    "| Symbol | Variable |\n",
    "|-----|-----------|\n",
    "| $t$ | Thickness |\n",
    "| $h$ | Height |\n",
    "| $E$ | Elasticity |\n",
    "| $\\mu$ | Poisson's ratio |\n",
    "| $\\sigma_{\\text{buckle}}$ | Buckling stress |\n",
    "\n",
    "We formulate this as a reliability problem by additionally considering the imposed load $L$. To compute stress, we need the width of the plate $w$ as well; vis. $\\sigma = L / t / w$. Then the *limit state* is given by\n",
    "\n",
    "$$g_{\\text{buckle}} = \\sigma_{\\text{buckle}} - \\frac{L}{t w}.$$\n",
    "\n",
    "This function is encoded below.\n"
   ]
  },
  {
   "cell_type": "code",
   "execution_count": 2,
   "metadata": {},
   "outputs": [],
   "source": [
    "def function_buckle_state(x):\n",
    "    t, h, w, E, mu, L = x\n",
    "    return np.pi * E / 12 / (1 - mu**2) * (t / h)**2 - L / t / w\n",
    "\n",
    "buckle_vars = [\"t\", \"h\", \"w\", \"E\", \"mu\", \"L\"]"
   ]
  },
  {
   "cell_type": "markdown",
   "metadata": {},
   "source": [
    "This is the only function we consider, so we now have the full list of variables for the model.\n"
   ]
  },
  {
   "cell_type": "markdown",
   "metadata": {},
   "source": [
    "# Variables\n",
    "\n",
    "---\n",
    "\n",
    "Now that we have a full list of variables, we must decide which are *random* and which are *deterministic*.\n",
    "\n",
    "| Var | Type  | Rationale |\n",
    "|-----|-------|-----------|\n",
    "| $t$ | `det` | Chosen |\n",
    "| $h$ | `det` | Chosen |\n",
    "| $w$ | `det` | Chosen |\n",
    "| $E$ | `rand` | Material property |\n",
    "| $\\mu$ | `rand` | Material property |\n",
    "| $L$ | `rand` | Uncertain conditions |\n",
    "\n",
    "In this study we choose $t,h,w$ to be deterministic. If we were interested in comparing manufacturing variability with other sources of uncertainty, we would need to make them random."
   ]
  },
  {
   "cell_type": "markdown",
   "metadata": {},
   "source": [
    "### Deterministic Bounds\n",
    "\n",
    "While not required, it is helpful to give deterministic bounds for the inputs. This provides the user some context on what values are relevant to the problem at hand."
   ]
  },
  {
   "cell_type": "code",
   "execution_count": 3,
   "metadata": {},
   "outputs": [],
   "source": [
    "t_bounds = [0.125, 0.5]\n",
    "h_bounds = [10, 12]\n",
    "w_bounds = [2, 3]"
   ]
  },
  {
   "cell_type": "markdown",
   "metadata": {},
   "source": [
    "### Random Variables\n",
    "\n",
    "Since we have random variables, we must fit a *distribution* to describe their randomness. This ideally results from a principled, data-driven analysis. We provide an example of such a study below."
   ]
  },
  {
   "cell_type": "markdown",
   "metadata": {},
   "source": [
    "# Distribution\n",
    "\n",
    "---\n",
    "\n",
    "## Choosing Marginals with EDA\n",
    "\n",
    "The following data describe the elasticity `E` and Poisson ratio `mu` of an aluminum alloy, tested at different angles [2]. A tidied version of these data are provided with `py_grama`.\n"
   ]
  },
  {
   "cell_type": "code",
   "execution_count": 4,
   "metadata": {},
   "outputs": [
    {
     "data": {
      "text/html": [
       "<div>\n",
       "<style scoped>\n",
       "    .dataframe tbody tr th:only-of-type {\n",
       "        vertical-align: middle;\n",
       "    }\n",
       "\n",
       "    .dataframe tbody tr th {\n",
       "        vertical-align: top;\n",
       "    }\n",
       "\n",
       "    .dataframe thead th {\n",
       "        text-align: right;\n",
       "    }\n",
       "</style>\n",
       "<table border=\"1\" class=\"dataframe\">\n",
       "  <thead>\n",
       "    <tr style=\"text-align: right;\">\n",
       "      <th></th>\n",
       "      <th>thick</th>\n",
       "      <th>E</th>\n",
       "      <th>mu</th>\n",
       "      <th>ang</th>\n",
       "    </tr>\n",
       "  </thead>\n",
       "  <tbody>\n",
       "    <tr>\n",
       "      <td>count</td>\n",
       "      <td>76.000000</td>\n",
       "      <td>76.000000</td>\n",
       "      <td>76.000000</td>\n",
       "      <td>76.000000</td>\n",
       "    </tr>\n",
       "    <tr>\n",
       "      <td>mean</td>\n",
       "      <td>0.051395</td>\n",
       "      <td>10344.736842</td>\n",
       "      <td>0.321461</td>\n",
       "      <td>45.000000</td>\n",
       "    </tr>\n",
       "    <tr>\n",
       "      <td>std</td>\n",
       "      <td>0.024349</td>\n",
       "      <td>260.458435</td>\n",
       "      <td>0.006582</td>\n",
       "      <td>37.469988</td>\n",
       "    </tr>\n",
       "    <tr>\n",
       "      <td>min</td>\n",
       "      <td>0.022000</td>\n",
       "      <td>9900.000000</td>\n",
       "      <td>0.310000</td>\n",
       "      <td>0.000000</td>\n",
       "    </tr>\n",
       "    <tr>\n",
       "      <td>25%</td>\n",
       "      <td>0.032000</td>\n",
       "      <td>10075.000000</td>\n",
       "      <td>0.315750</td>\n",
       "      <td>0.000000</td>\n",
       "    </tr>\n",
       "    <tr>\n",
       "      <td>50%</td>\n",
       "      <td>0.064000</td>\n",
       "      <td>10400.000000</td>\n",
       "      <td>0.322000</td>\n",
       "      <td>45.000000</td>\n",
       "    </tr>\n",
       "    <tr>\n",
       "      <td>75%</td>\n",
       "      <td>0.081000</td>\n",
       "      <td>10500.000000</td>\n",
       "      <td>0.328000</td>\n",
       "      <td>90.000000</td>\n",
       "    </tr>\n",
       "    <tr>\n",
       "      <td>max</td>\n",
       "      <td>0.081000</td>\n",
       "      <td>10700.000000</td>\n",
       "      <td>0.331000</td>\n",
       "      <td>90.000000</td>\n",
       "    </tr>\n",
       "  </tbody>\n",
       "</table>\n",
       "</div>"
      ],
      "text/plain": [
       "           thick             E         mu        ang\n",
       "count  76.000000     76.000000  76.000000  76.000000\n",
       "mean    0.051395  10344.736842   0.321461  45.000000\n",
       "std     0.024349    260.458435   0.006582  37.469988\n",
       "min     0.022000   9900.000000   0.310000   0.000000\n",
       "25%     0.032000  10075.000000   0.315750   0.000000\n",
       "50%     0.064000  10400.000000   0.322000  45.000000\n",
       "75%     0.081000  10500.000000   0.328000  90.000000\n",
       "max     0.081000  10700.000000   0.331000  90.000000"
      ]
     },
     "execution_count": 4,
     "metadata": {},
     "output_type": "execute_result"
    }
   ],
   "source": [
    "df_stang.describe()"
   ]
  },
  {
   "cell_type": "markdown",
   "metadata": {},
   "source": [
    "We inspect the bivariate relation between `E,mu` to assess dependence and choose marginals."
   ]
  },
  {
   "cell_type": "code",
   "execution_count": 5,
   "metadata": {},
   "outputs": [
    {
     "data": {
      "text/plain": [
       "<seaborn.axisgrid.PairGrid at 0x11da1f4d0>"
      ]
     },
     "execution_count": 5,
     "metadata": {},
     "output_type": "execute_result"
    },
    {
     "data": {
      "image/png": "[encoded data removed]",
      "text/plain": [
       "<Figure size 424.5x360 with 6 Axes>"
      ]
     },
     "metadata": {
      "needs_background": "light"
     },
     "output_type": "display_data"
    }
   ],
   "source": [
    "sns.pairplot(df_stang, vars=[\"E\", \"mu\"], hue=\"thick\")\n"
   ]
  },
  {
   "cell_type": "markdown",
   "metadata": {},
   "source": [
    "The thickest plates seem to be quite different from the others. I would be inclied to return to [2] and see if anything was strange about these thickest samples.\n",
    "\n",
    "If we remove the largest plates, do the marginals look closer to standard distributions?"
   ]
  },
  {
   "cell_type": "code",
   "execution_count": 6,
   "metadata": {},
   "outputs": [
    {
     "data": {
      "text/plain": [
       "<seaborn.axisgrid.PairGrid at 0x1a1f65a710>"
      ]
     },
     "execution_count": 6,
     "metadata": {},
     "output_type": "execute_result"
    },
    {
     "data": {
      "image/png": "[encoded data removed]",
      "text/plain": [
       "<Figure size 360x360 with 6 Axes>"
      ]
     },
     "metadata": {
      "needs_background": "light"
     },
     "output_type": "display_data"
    }
   ],
   "source": [
    "sns.pairplot(df_stang >> mask(X.thick < 0.08), vars=[\"E\", \"mu\"])\n"
   ]
  },
  {
   "cell_type": "markdown",
   "metadata": {},
   "source": [
    "With filtered thick plates `E` looks roughly normal. Values of Poisson ratio `mu` are extremely constrained and essentially have compact support; I choose to fit a beta distribution.\n"
   ]
  },
  {
   "cell_type": "markdown",
   "metadata": {},
   "source": [
    "## Fitting Marginals\n",
    "\n",
    "Now that we have selected marginal shapes, we can use the data to fit parameters for the marginals. We use the shortcut function `gr.continuous_fit()` to fit the distribution parameters."
   ]
  },
  {
   "cell_type": "code",
   "execution_count": 7,
   "metadata": {},
   "outputs": [
    {
     "data": {
      "text/plain": [
       "{'loc': 10344.736842105263, 'scale': 258.7392188662194, 'dist': 'norm'}"
      ]
     },
     "execution_count": 7,
     "metadata": {},
     "output_type": "execute_result"
    }
   ],
   "source": [
    "E_param = gr.continuous_fit(df_stang.E, \"norm\")\n",
    "E_param"
   ]
  },
  {
   "cell_type": "code",
   "execution_count": 8,
   "metadata": {},
   "outputs": [
    {
     "data": {
      "text/plain": [
       "{'a': 1.0039017654316746,\n",
       " 'b': 0.8622680473775106,\n",
       " 'loc': 0.3094053248270583,\n",
       " 'scale': 0.021594675172941728,\n",
       " 'dist': 'beta'}"
      ]
     },
     "execution_count": 8,
     "metadata": {},
     "output_type": "execute_result"
    }
   ],
   "source": [
    "mu_param = gr.continuous_fit(df_stang.mu, \"beta\")\n",
    "mu_param"
   ]
  },
  {
   "cell_type": "markdown",
   "metadata": {},
   "source": [
    "Lastly, we need to choose a distribution for the uncertain load. We have no data available, so this will have to be by choice. I selected the values below to lead to a small probability of `g_buckle` going negative."
   ]
  },
  {
   "cell_type": "code",
   "execution_count": 9,
   "metadata": {},
   "outputs": [],
   "source": [
    "L_mu = 0.8\n",
    "L_s = 0.01\n",
    "L_param = {\"dist\": \"lognorm\", \"s\": L_s, \"loc\": 1, \"scale\": L_mu, \"sign\": +1}"
   ]
  },
  {
   "cell_type": "markdown",
   "metadata": {},
   "source": [
    "# `py_grama` Model Definition\n",
    "\n",
    "---\n",
    "\n",
    "With the information above, we can build our `py_grama` model."
   ]
  },
  {
   "cell_type": "code",
   "execution_count": 10,
   "metadata": {},
   "outputs": [
    {
     "name": "stdout",
     "output_type": "stream",
     "text": [
      "model: Plate Buckling\n",
      "\n",
      "  inputs:\n",
      "    var_det:\n",
      "      t: [0.125, 0.5]\n",
      "      w: [2, 3]\n",
      "      h: [10, 12]\n",
      "    var_rand:\n",
      "      E: (+0) norm, {'loc': 10344.736842105263, 'scale': 258.7392188662194}\n",
      "      mu: (+0) beta, {'a': 1.0039017654316746, 'b': 0.8622680473775106, 'loc': 0.3094053248270583, 'scale': 0.021594675172941728}\n",
      "      L: (+1) lognorm, {'s': 0.01, 'loc': 1, 'scale': 0.8}\n",
      "  functions:\n",
      "    function_buckle_state: ['t', 'h', 'w', 'E', 'mu', 'L'] -> ['g_buckle']\n"
     ]
    }
   ],
   "source": [
    "md_plate = \\\n",
    "    gr.Model(\"Plate Buckling\") >> \\\n",
    "    gr.cp_function(\n",
    "        fun=function_buckle_state,\n",
    "        var=buckle_vars,\n",
    "        out=[\"g_buckle\"]\n",
    "    ) >> \\\n",
    "    gr.cp_bounds(\n",
    "        t=t_bounds,\n",
    "        w=w_bounds,\n",
    "        h=h_bounds\n",
    "    ) >> \\\n",
    "    gr.cp_marginals(\n",
    "        E=E_param,\n",
    "        mu=mu_param,\n",
    "        L=L_param\n",
    "    )\n",
    "\n",
    "md_plate.printpretty()\n"
   ]
  },
  {
   "cell_type": "markdown",
   "metadata": {},
   "source": [
    "The method `printpretty()` allows us to summarize the model. We can check that the correct variables are sorted into deterministic (`det`) or random (`rand`) categories, and that the correct distributions and parameters are assigned for each marginal.\n",
    "\n",
    "With a fully defined model, we can carry out various kinds of model analyses, for instance a Monte Carlo analysis is not a one-line call. The [analysis demo](https://github.com/zdelrosario/py_grama/blob/master/examples/demo/analysis_demo.ipynb) has more details on model analysis with `py_grama`."
   ]
  },
  {
   "cell_type": "code",
   "execution_count": 11,
   "metadata": {},
   "outputs": [
    {
     "name": "stdout",
     "output_type": "stream",
     "text": [
      "eval_monte_carlo() is rounding n...\n"
     ]
    },
    {
     "data": {
      "text/html": [
       "<div>\n",
       "<style scoped>\n",
       "    .dataframe tbody tr th:only-of-type {\n",
       "        vertical-align: middle;\n",
       "    }\n",
       "\n",
       "    .dataframe tbody tr th {\n",
       "        vertical-align: top;\n",
       "    }\n",
       "\n",
       "    .dataframe thead th {\n",
       "        text-align: right;\n",
       "    }\n",
       "</style>\n",
       "<table border=\"1\" class=\"dataframe\">\n",
       "  <thead>\n",
       "    <tr style=\"text-align: right;\">\n",
       "      <th></th>\n",
       "      <th>E</th>\n",
       "      <th>mu</th>\n",
       "      <th>L</th>\n",
       "      <th>t</th>\n",
       "      <th>w</th>\n",
       "      <th>h</th>\n",
       "      <th>g_buckle</th>\n",
       "    </tr>\n",
       "  </thead>\n",
       "  <tbody>\n",
       "    <tr>\n",
       "      <td>count</td>\n",
       "      <td>1000.000000</td>\n",
       "      <td>1000.000000</td>\n",
       "      <td>1000.000000</td>\n",
       "      <td>1000.0000</td>\n",
       "      <td>1000.0</td>\n",
       "      <td>1000.0</td>\n",
       "      <td>1000.000000</td>\n",
       "    </tr>\n",
       "    <tr>\n",
       "      <td>mean</td>\n",
       "      <td>10338.885260</td>\n",
       "      <td>0.320862</td>\n",
       "      <td>1.799747</td>\n",
       "      <td>0.3125</td>\n",
       "      <td>2.5</td>\n",
       "      <td>11.0</td>\n",
       "      <td>0.131710</td>\n",
       "    </tr>\n",
       "    <tr>\n",
       "      <td>std</td>\n",
       "      <td>260.097319</td>\n",
       "      <td>0.006629</td>\n",
       "      <td>0.007931</td>\n",
       "      <td>0.0000</td>\n",
       "      <td>0.0</td>\n",
       "      <td>0.0</td>\n",
       "      <td>0.062041</td>\n",
       "    </tr>\n",
       "    <tr>\n",
       "      <td>min</td>\n",
       "      <td>9510.312932</td>\n",
       "      <td>0.309417</td>\n",
       "      <td>1.774257</td>\n",
       "      <td>0.3125</td>\n",
       "      <td>2.5</td>\n",
       "      <td>11.0</td>\n",
       "      <td>-0.053844</td>\n",
       "    </tr>\n",
       "    <tr>\n",
       "      <td>25%</td>\n",
       "      <td>10157.292897</td>\n",
       "      <td>0.314885</td>\n",
       "      <td>1.794878</td>\n",
       "      <td>0.3125</td>\n",
       "      <td>2.5</td>\n",
       "      <td>11.0</td>\n",
       "      <td>0.090339</td>\n",
       "    </tr>\n",
       "    <tr>\n",
       "      <td>50%</td>\n",
       "      <td>10331.920876</td>\n",
       "      <td>0.321200</td>\n",
       "      <td>1.799681</td>\n",
       "      <td>0.3125</td>\n",
       "      <td>2.5</td>\n",
       "      <td>11.0</td>\n",
       "      <td>0.129151</td>\n",
       "    </tr>\n",
       "    <tr>\n",
       "      <td>75%</td>\n",
       "      <td>10501.495486</td>\n",
       "      <td>0.327029</td>\n",
       "      <td>1.805045</td>\n",
       "      <td>0.3125</td>\n",
       "      <td>2.5</td>\n",
       "      <td>11.0</td>\n",
       "      <td>0.172428</td>\n",
       "    </tr>\n",
       "    <tr>\n",
       "      <td>max</td>\n",
       "      <td>11166.748969</td>\n",
       "      <td>0.331000</td>\n",
       "      <td>1.826055</td>\n",
       "      <td>0.3125</td>\n",
       "      <td>2.5</td>\n",
       "      <td>11.0</td>\n",
       "      <td>0.357148</td>\n",
       "    </tr>\n",
       "  </tbody>\n",
       "</table>\n",
       "</div>"
      ],
      "text/plain": [
       "                  E           mu            L          t       w       h  \\\n",
       "count   1000.000000  1000.000000  1000.000000  1000.0000  1000.0  1000.0   \n",
       "mean   10338.885260     0.320862     1.799747     0.3125     2.5    11.0   \n",
       "std      260.097319     0.006629     0.007931     0.0000     0.0     0.0   \n",
       "min     9510.312932     0.309417     1.774257     0.3125     2.5    11.0   \n",
       "25%    10157.292897     0.314885     1.794878     0.3125     2.5    11.0   \n",
       "50%    10331.920876     0.321200     1.799681     0.3125     2.5    11.0   \n",
       "75%    10501.495486     0.327029     1.805045     0.3125     2.5    11.0   \n",
       "max    11166.748969     0.331000     1.826055     0.3125     2.5    11.0   \n",
       "\n",
       "          g_buckle  \n",
       "count  1000.000000  \n",
       "mean      0.131710  \n",
       "std       0.062041  \n",
       "min      -0.053844  \n",
       "25%       0.090339  \n",
       "50%       0.129151  \n",
       "75%       0.172428  \n",
       "max       0.357148  "
      ]
     },
     "execution_count": 11,
     "metadata": {},
     "output_type": "execute_result"
    }
   ],
   "source": [
    "df_mc = md_plate >> gr.ev_monte_carlo(n=1e3, df_det=\"nom\")\n",
    "df_mc.describe()"
   ]
  },
  {
   "cell_type": "markdown",
   "metadata": {},
   "source": [
    "# Bibliography\n",
    "\n",
    "---\n",
    "\n",
    "[1] David J Peery. Aircraft structures. Courier Corporation, 2011.\n",
    "\n",
    "[2] A. H. Stang, M. Greenspan, and S. B. Newman, Journal of Research of the National Bureau of Standards 37, (1946).\n"
   ]
  }
 ],
 "metadata": {
  "kernelspec": {
   "display_name": "Python 3",
   "language": "python",
   "name": "python3"
  },
  "language_info": {
   "codemirror_mode": {
    "name": "ipython",
    "version": 3
   },
   "file_extension": ".py",
   "mimetype": "text/x-python",
   "name": "python",
   "nbconvert_exporter": "python",
   "pygments_lexer": "ipython3",
   "version": "3.7.4"
  }
 },
 "nbformat": 4,
 "nbformat_minor": 4
}

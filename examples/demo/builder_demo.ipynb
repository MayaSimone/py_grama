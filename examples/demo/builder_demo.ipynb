{
 "cells": [
  {
   "cell_type": "markdown",
   "metadata": {},
   "source": [
    "# *grama* Model-Building Demo\n",
    "\n",
    "---\n",
    "\n",
    "*grama* is a *grammar of model analysis*---a language for describing and analyzing mathematical models. Heavily inspired by [ggplot](https://ggplot2.tidyverse.org/index.html), `py_grama` is a Python package that implements *grama* by providing tools for defining and exploring models. \n",
    "\n",
    "This notebook illustrates how one can use *grama* to ___build a fully-defined model___.\n",
    "\n",
    "Note that you will need to install `py_grama`, a fork of `dfply`, and dependencies in order to run this notebook. See the [installation instructions](https://github.com/zdelrosario/py_grama) for details. "
   ]
  },
  {
   "cell_type": "code",
   "execution_count": 1,
   "metadata": {},
   "outputs": [],
   "source": [
    "### Setup\n",
    "from dfply import *\n",
    "import grama as gr\n",
    "import numpy as np\n",
    "import pandas as pd\n",
    "import scipy as sp\n",
    "import seaborn as sns\n",
    "\n",
    "from grama.data import df_stang\n"
   ]
  },
  {
   "cell_type": "markdown",
   "metadata": {},
   "source": [
    "# Overview\n",
    "\n",
    "---\n",
    "\n",
    "To demonstrate building a *grama* model, we will build a plate buckling model accounting for variable material properties and uncertain loads. A *grama* model has both functions and distributions. We recommend first choosing the relevant functions, identifiying all their inputs (variables), determining which are deterministic or random, then choosing a distribution. We illustrate all of these steps below.\n",
    "\n",
    "Note: I make no claim that the modeling choices below are optimal or even imitable; this document is primarily a demonstration of ***a fully reproducible model-building exercise***. Since all choices made here (bad or good) are documented, the resulting model's provenance is easily traceable.\n"
   ]
  },
  {
   "cell_type": "markdown",
   "metadata": {},
   "source": [
    "# Function\n",
    "\n",
    "---\n"
   ]
  },
  {
   "cell_type": "markdown",
   "metadata": {},
   "source": [
    "Peery [1] gives a simple model for the buckling stress of a plate under compression\n",
    "\n",
    "$$\\sigma_{\\text{buckle}} = \\frac{12E}{\\pi} \\frac{(t/h)^2}{1 - \\mu^2},$$\n",
    "\n",
    "where\n",
    "\n",
    "| Symbol | Variable |\n",
    "|-----|-----------|\n",
    "| $t$ | Thickness |\n",
    "| $h$ | Height |\n",
    "| $E$ | Elasticity |\n",
    "| $\\mu$ | Poisson's ratio |\n",
    "| $\\sigma_{\\text{buckle}}$ | Buckling stress |\n",
    "\n",
    "We formulate this as a reliability problem by additionally considering the imposed load $L$. To compute stress, we need the width of the plate $w$ as well; vis. $\\sigma = L / t / w$. Then the *limit state* is given by\n",
    "\n",
    "$$g_{\\text{buckle}} = \\sigma_{\\text{buckle}} - \\frac{L}{t w}.$$\n",
    "\n",
    "This function is encoded below.\n"
   ]
  },
  {
   "cell_type": "code",
   "execution_count": 2,
   "metadata": {},
   "outputs": [],
   "source": [
    "def function_buckle_state(x):\n",
    "    t, h, w, E, mu, L = x\n",
    "    return np.pi * E / 12 / (1 - mu**2) * (t / h)**2 - L / t / w\n",
    "\n",
    "buckle_vars = [\"t\", \"h\", \"w\", \"E\", \"mu\", \"L\"]"
   ]
  },
  {
   "cell_type": "markdown",
   "metadata": {},
   "source": [
    "This is the only function we consider, so we now have the full list of variables for the model.\n"
   ]
  },
  {
   "cell_type": "markdown",
   "metadata": {},
   "source": [
    "# Variables\n",
    "\n",
    "---\n",
    "\n",
    "Now that we have a full list of variables, we must decide which are *random* and which are *deterministic*.\n",
    "\n",
    "| Var | Type  | Rationale |\n",
    "|-----|-------|-----------|\n",
    "| $t$ | `det` | Chosen |\n",
    "| $h$ | `det` | Chosen |\n",
    "| $w$ | `det` | Chosen |\n",
    "| $L$ | `det` | Chosen |\n",
    "| $E$ | `rand` | Material property |\n",
    "| $\\mu$ | `rand` | Material property |\n",
    "\n",
    "In this study we choose $t,h,w,L$ to be deterministic. If we were interested in comparing manufacturing variability with other sources of uncertainty, we would need to make them random."
   ]
  },
  {
   "cell_type": "markdown",
   "metadata": {},
   "source": [
    "### Deterministic Bounds\n",
    "\n",
    "While not required, it is helpful to give deterministic bounds for the inputs. This provides the user some context on what values are relevant to the problem at hand."
   ]
  },
  {
   "cell_type": "code",
   "execution_count": 3,
   "metadata": {},
   "outputs": [],
   "source": [
    "t_bounds = [0.125, 0.5]\n",
    "h_bounds = [10, 12]\n",
    "w_bounds = [2, 3]\n",
    "L_bounds = [0.5, 2.0]"
   ]
  },
  {
   "cell_type": "markdown",
   "metadata": {},
   "source": [
    "### Random Variables\n",
    "\n",
    "Since we have random variables, we must fit a *distribution* to describe their randomness. This ideally results from a principled, data-driven analysis. We provide an example of such a study below."
   ]
  },
  {
   "cell_type": "markdown",
   "metadata": {},
   "source": [
    "# Distribution\n",
    "\n",
    "---\n",
    "\n",
    "## Choosing Marginals with EDA\n",
    "\n",
    "The following data describe the elasticity `E` and Poisson ratio `mu` of an aluminum alloy, tested at different angles [2]. A tidied version of these data are provided with `py_grama`.\n"
   ]
  },
  {
   "cell_type": "code",
   "execution_count": 4,
   "metadata": {},
   "outputs": [
    {
     "data": {
      "text/html": [
       "<div>\n",
       "<style scoped>\n",
       "    .dataframe tbody tr th:only-of-type {\n",
       "        vertical-align: middle;\n",
       "    }\n",
       "\n",
       "    .dataframe tbody tr th {\n",
       "        vertical-align: top;\n",
       "    }\n",
       "\n",
       "    .dataframe thead th {\n",
       "        text-align: right;\n",
       "    }\n",
       "</style>\n",
       "<table border=\"1\" class=\"dataframe\">\n",
       "  <thead>\n",
       "    <tr style=\"text-align: right;\">\n",
       "      <th></th>\n",
       "      <th>thick</th>\n",
       "      <th>E</th>\n",
       "      <th>mu</th>\n",
       "      <th>ang</th>\n",
       "    </tr>\n",
       "  </thead>\n",
       "  <tbody>\n",
       "    <tr>\n",
       "      <td>count</td>\n",
       "      <td>76.000000</td>\n",
       "      <td>76.000000</td>\n",
       "      <td>76.000000</td>\n",
       "      <td>76.000000</td>\n",
       "    </tr>\n",
       "    <tr>\n",
       "      <td>mean</td>\n",
       "      <td>0.051395</td>\n",
       "      <td>10344.736842</td>\n",
       "      <td>0.321461</td>\n",
       "      <td>45.000000</td>\n",
       "    </tr>\n",
       "    <tr>\n",
       "      <td>std</td>\n",
       "      <td>0.024349</td>\n",
       "      <td>260.458435</td>\n",
       "      <td>0.006582</td>\n",
       "      <td>37.469988</td>\n",
       "    </tr>\n",
       "    <tr>\n",
       "      <td>min</td>\n",
       "      <td>0.022000</td>\n",
       "      <td>9900.000000</td>\n",
       "      <td>0.310000</td>\n",
       "      <td>0.000000</td>\n",
       "    </tr>\n",
       "    <tr>\n",
       "      <td>25%</td>\n",
       "      <td>0.032000</td>\n",
       "      <td>10075.000000</td>\n",
       "      <td>0.315750</td>\n",
       "      <td>0.000000</td>\n",
       "    </tr>\n",
       "    <tr>\n",
       "      <td>50%</td>\n",
       "      <td>0.064000</td>\n",
       "      <td>10400.000000</td>\n",
       "      <td>0.322000</td>\n",
       "      <td>45.000000</td>\n",
       "    </tr>\n",
       "    <tr>\n",
       "      <td>75%</td>\n",
       "      <td>0.081000</td>\n",
       "      <td>10500.000000</td>\n",
       "      <td>0.328000</td>\n",
       "      <td>90.000000</td>\n",
       "    </tr>\n",
       "    <tr>\n",
       "      <td>max</td>\n",
       "      <td>0.081000</td>\n",
       "      <td>10700.000000</td>\n",
       "      <td>0.331000</td>\n",
       "      <td>90.000000</td>\n",
       "    </tr>\n",
       "  </tbody>\n",
       "</table>\n",
       "</div>"
      ],
      "text/plain": [
       "           thick             E         mu        ang\n",
       "count  76.000000     76.000000  76.000000  76.000000\n",
       "mean    0.051395  10344.736842   0.321461  45.000000\n",
       "std     0.024349    260.458435   0.006582  37.469988\n",
       "min     0.022000   9900.000000   0.310000   0.000000\n",
       "25%     0.032000  10075.000000   0.315750   0.000000\n",
       "50%     0.064000  10400.000000   0.322000  45.000000\n",
       "75%     0.081000  10500.000000   0.328000  90.000000\n",
       "max     0.081000  10700.000000   0.331000  90.000000"
      ]
     },
     "execution_count": 4,
     "metadata": {},
     "output_type": "execute_result"
    }
   ],
   "source": [
    "df_stang.describe()"
   ]
  },
  {
   "cell_type": "markdown",
   "metadata": {},
   "source": [
    "We inspect the bivariate relation between `E,mu` to assess dependence and choose marginals."
   ]
  },
  {
   "cell_type": "code",
   "execution_count": 5,
   "metadata": {},
   "outputs": [
    {
     "data": {
      "text/plain": [
       "<seaborn.axisgrid.PairGrid at 0x11c265fd0>"
      ]
     },
     "execution_count": 5,
     "metadata": {},
     "output_type": "execute_result"
    },
    {
     "data": {
      "image/png": "[encoded data removed]",
      "text/plain": [
       "<Figure size 424.5x360 with 6 Axes>"
      ]
     },
     "metadata": {
      "needs_background": "light"
     },
     "output_type": "display_data"
    }
   ],
   "source": [
    "sns.pairplot(df_stang, vars=[\"E\", \"mu\"], hue=\"thick\")\n"
   ]
  },
  {
   "cell_type": "markdown",
   "metadata": {},
   "source": [
    "The thickest plates seem to be quite different from the others. I would be inclied to return to [2] and see if anything was strange about these thickest samples.\n",
    "\n",
    "If we remove the largest plates, do the marginals look closer to standard distributions?"
   ]
  },
  {
   "cell_type": "code",
   "execution_count": 6,
   "metadata": {},
   "outputs": [
    {
     "data": {
      "text/plain": [
       "<seaborn.axisgrid.PairGrid at 0x1a1ec4a610>"
      ]
     },
     "execution_count": 6,
     "metadata": {},
     "output_type": "execute_result"
    },
    {
     "data": {
      "image/png": "[encoded data removed]",
      "text/plain": [
       "<Figure size 360x360 with 6 Axes>"
      ]
     },
     "metadata": {
      "needs_background": "light"
     },
     "output_type": "display_data"
    }
   ],
   "source": [
    "df_filtered = \\\n",
    "    df_stang >> \\\n",
    "    mask(X.thick < 0.08)\n",
    "sns.pairplot(df_filtered, vars=[\"E\", \"mu\"])\n"
   ]
  },
  {
   "cell_type": "markdown",
   "metadata": {},
   "source": [
    "With filtered thick plates `E` looks roughly normal. Values of Poisson ratio `mu` are extremely constrained and essentially have compact support; I choose to fit a beta distribution.\n"
   ]
  },
  {
   "cell_type": "markdown",
   "metadata": {},
   "source": [
    "## Fitting Marginals\n",
    "\n",
    "Now that we have selected marginal shapes, we can use the data to fit parameters for the marginals. We use the shortcut function `gr.continuous_fit()` to fit the distribution parameters."
   ]
  },
  {
   "cell_type": "code",
   "execution_count": 7,
   "metadata": {},
   "outputs": [
    {
     "data": {
      "text/plain": [
       "{'loc': 10494.444444444445, 'scale': 122.34841969747357, 'dist': 'norm'}"
      ]
     },
     "execution_count": 7,
     "metadata": {},
     "output_type": "execute_result"
    }
   ],
   "source": [
    "E_param = gr.continuous_fit(df_filtered.E, \"norm\")\n",
    "E_param"
   ]
  },
  {
   "cell_type": "code",
   "execution_count": 8,
   "metadata": {},
   "outputs": [
    {
     "data": {
      "text/plain": [
       "{'a': 6.879566793201636,\n",
       " 'b': 0.6321272777611089,\n",
       " 'loc': 0.2606759864245117,\n",
       " 'scale': 0.07032401357548836,\n",
       " 'dist': 'beta'}"
      ]
     },
     "execution_count": 8,
     "metadata": {},
     "output_type": "execute_result"
    }
   ],
   "source": [
    "mu_param = gr.continuous_fit(df_filtered.mu, \"beta\")\n",
    "mu_param"
   ]
  },
  {
   "cell_type": "markdown",
   "metadata": {},
   "source": [
    "We can pass this information to the model building interface, or simply use `gr.continuous_fit` in place."
   ]
  },
  {
   "cell_type": "markdown",
   "metadata": {},
   "source": [
    "## Fitting a copula\n",
    "\n",
    "From the pair plots above, we can see that the `E, mu` variables might exhibit some mild dependence. We can further investigate this with a *Gaussian copula*, which is easily incorporated in our model build. Below we build a model for the random variables only, and compare drawing samples from this model against the original data."
   ]
  },
  {
   "cell_type": "code",
   "execution_count": 9,
   "metadata": {},
   "outputs": [
    {
     "name": "stdout",
     "output_type": "stream",
     "text": [
      "model: None\n",
      "\n",
      "  inputs:\n",
      "    var_det:\n",
      "    var_rand:\n",
      "      E: (+0) norm, {'loc': 10494.444444444445, 'scale': 122.34841969747357}\n",
      "      mu: (+0) beta, {'a': 6.879566793201636, 'b': 0.6321272777611089, 'loc': 0.2606759864245117, 'scale': 0.07032401357548836}\n",
      "    copula:\n",
      "        Gaussian copula with correlations:\n",
      "  var1 var2      corr\n",
      "0    E   mu  0.030216\n",
      "  functions:\n"
     ]
    }
   ],
   "source": [
    "## Fit the copula\n",
    "md_tmp = gr.Model() >>\\\n",
    "    gr.cp_marginals(E=E_param, mu=mu_param) >> \\\n",
    "    gr.cp_copula_gaussian(df_data=df_filtered)\n",
    "md_tmp.printpretty()"
   ]
  },
  {
   "cell_type": "markdown",
   "metadata": {},
   "source": [
    "Printing the model summary above shows that the fitted copula has a correlation of about `0.03`, which probably negligible. Below we visualize and compare the original samples against samples drawn from the fitted distribution."
   ]
  },
  {
   "cell_type": "code",
   "execution_count": 10,
   "metadata": {},
   "outputs": [
    {
     "name": "stdout",
     "output_type": "stream",
     "text": [
      "Design runtime estimates unavailable; model has no timing data.\n"
     ]
    },
    {
     "data": {
      "text/plain": [
       "<seaborn.axisgrid.PairGrid at 0x1a1f208750>"
      ]
     },
     "execution_count": 10,
     "metadata": {},
     "output_type": "execute_result"
    },
    {
     "data": {
      "image/png": "[encoded data removed]",
      "text/plain": [
       "<Figure size 424x360 with 6 Axes>"
      ]
     },
     "metadata": {
      "needs_background": "light"
     },
     "output_type": "display_data"
    }
   ],
   "source": [
    "## Compare samples\n",
    "df_syn = md_tmp >> gr.ev_monte_carlo(n=200, df_det=\"nom\", skip=True)\n",
    "df_both = pd.concat(\n",
    "    (df_syn.assign(source=[\"syn\"] * df_syn.shape[0]),\n",
    "     df_filtered.assign(source=[\"stang\"] * df_filtered.shape[0])),\n",
    "    axis=0,\n",
    "    sort=False\n",
    ").reset_index(drop=True)\n",
    "df_both\n",
    "\n",
    "sns.pairplot(df_both, vars=[\"E\", \"mu\"], hue=\"source\")"
   ]
  },
  {
   "cell_type": "markdown",
   "metadata": {},
   "source": [
    "# `py_grama` Model Definition\n",
    "\n",
    "---\n",
    "\n",
    "With the information above, we can build our `py_grama` model. Using a sequence of compositions, we build up the model using the information described above. A final call to `printpretty()` allows us to summarize the model."
   ]
  },
  {
   "cell_type": "code",
   "execution_count": 11,
   "metadata": {},
   "outputs": [
    {
     "name": "stdout",
     "output_type": "stream",
     "text": [
      "model: Plate Buckling\n",
      "\n",
      "  inputs:\n",
      "    var_det:\n",
      "      L: [0.5, 2.0]\n",
      "      w: [2, 3]\n",
      "      h: [10, 12]\n",
      "      t: [0.125, 0.5]\n",
      "    var_rand:\n",
      "      E: (+0) norm, {'loc': 10494.444444444445, 'scale': 122.34841969747357}\n",
      "      mu: (+0) beta, {'a': 6.879566793201636, 'b': 0.6321272777611089, 'loc': 0.2606759864245117, 'scale': 0.07032401357548836}\n",
      "    copula:\n",
      "        Gaussian copula with correlations:\n",
      "  var1 var2      corr\n",
      "0    E   mu  0.030216\n",
      "  functions:\n",
      "    function_buckle_state: ['t', 'h', 'w', 'E', 'mu', 'L'] -> ['g_buckle']\n"
     ]
    }
   ],
   "source": [
    "md_plate = \\\n",
    "    gr.Model(\"Plate Buckling\") >> \\\n",
    "    gr.cp_function(\n",
    "        fun=function_buckle_state,\n",
    "        var=buckle_vars,\n",
    "        out=[\"g_buckle\"]\n",
    "    ) >> \\\n",
    "    gr.cp_bounds(\n",
    "        t=t_bounds,\n",
    "        w=w_bounds,\n",
    "        h=h_bounds,\n",
    "        L=L_bounds\n",
    "    ) >> \\\n",
    "    gr.cp_marginals(\n",
    "        E=E_param,\n",
    "        mu=mu_param\n",
    "    ) >> \\\n",
    "    gr.cp_copula_gaussian(df_data=df_filtered)\n",
    "\n",
    "md_plate.printpretty()\n"
   ]
  },
  {
   "cell_type": "markdown",
   "metadata": {},
   "source": [
    "The method `printpretty()` allows us to summarize the model. We can check that the correct variables are sorted into deterministic (`det`) or random (`rand`) categories, and that the correct distributions and parameters are assigned for each marginal.\n",
    "\n",
    "With a fully defined model, we can carry out various kinds of model analyses, for instance a Monte Carlo analysis is now a one-line call. The [analysis demo](https://github.com/zdelrosario/py_grama/blob/master/examples/demo/analysis_demo.ipynb) has more details on model analysis with `py_grama`."
   ]
  },
  {
   "cell_type": "code",
   "execution_count": 12,
   "metadata": {},
   "outputs": [
    {
     "name": "stdout",
     "output_type": "stream",
     "text": [
      "eval_monte_carlo() is rounding n...\n"
     ]
    },
    {
     "data": {
      "text/html": [
       "<div>\n",
       "<style scoped>\n",
       "    .dataframe tbody tr th:only-of-type {\n",
       "        vertical-align: middle;\n",
       "    }\n",
       "\n",
       "    .dataframe tbody tr th {\n",
       "        vertical-align: top;\n",
       "    }\n",
       "\n",
       "    .dataframe thead th {\n",
       "        text-align: right;\n",
       "    }\n",
       "</style>\n",
       "<table border=\"1\" class=\"dataframe\">\n",
       "  <thead>\n",
       "    <tr style=\"text-align: right;\">\n",
       "      <th></th>\n",
       "      <th>E</th>\n",
       "      <th>mu</th>\n",
       "      <th>L</th>\n",
       "      <th>w</th>\n",
       "      <th>h</th>\n",
       "      <th>t</th>\n",
       "      <th>g_buckle</th>\n",
       "    </tr>\n",
       "  </thead>\n",
       "  <tbody>\n",
       "    <tr>\n",
       "      <td>count</td>\n",
       "      <td>1000.000000</td>\n",
       "      <td>1000.000000</td>\n",
       "      <td>1000.00</td>\n",
       "      <td>1000.0</td>\n",
       "      <td>1000.0</td>\n",
       "      <td>1000.0000</td>\n",
       "      <td>1000.000000</td>\n",
       "    </tr>\n",
       "    <tr>\n",
       "      <td>mean</td>\n",
       "      <td>10488.752780</td>\n",
       "      <td>0.325243</td>\n",
       "      <td>1.25</td>\n",
       "      <td>2.5</td>\n",
       "      <td>11.0</td>\n",
       "      <td>0.3125</td>\n",
       "      <td>0.878537</td>\n",
       "    </tr>\n",
       "    <tr>\n",
       "      <td>std</td>\n",
       "      <td>119.872738</td>\n",
       "      <td>0.006611</td>\n",
       "      <td>0.00</td>\n",
       "      <td>0.0</td>\n",
       "      <td>0.0</td>\n",
       "      <td>0.0000</td>\n",
       "      <td>0.030741</td>\n",
       "    </tr>\n",
       "    <tr>\n",
       "      <td>min</td>\n",
       "      <td>10127.396676</td>\n",
       "      <td>0.288659</td>\n",
       "      <td>1.25</td>\n",
       "      <td>2.5</td>\n",
       "      <td>11.0</td>\n",
       "      <td>0.3125</td>\n",
       "      <td>0.786077</td>\n",
       "    </tr>\n",
       "    <tr>\n",
       "      <td>25%</td>\n",
       "      <td>10402.545665</td>\n",
       "      <td>0.322368</td>\n",
       "      <td>1.25</td>\n",
       "      <td>2.5</td>\n",
       "      <td>11.0</td>\n",
       "      <td>0.3125</td>\n",
       "      <td>0.857191</td>\n",
       "    </tr>\n",
       "    <tr>\n",
       "      <td>50%</td>\n",
       "      <td>10486.724421</td>\n",
       "      <td>0.327665</td>\n",
       "      <td>1.25</td>\n",
       "      <td>2.5</td>\n",
       "      <td>11.0</td>\n",
       "      <td>0.3125</td>\n",
       "      <td>0.878986</td>\n",
       "    </tr>\n",
       "    <tr>\n",
       "      <td>75%</td>\n",
       "      <td>10568.490970</td>\n",
       "      <td>0.330096</td>\n",
       "      <td>1.25</td>\n",
       "      <td>2.5</td>\n",
       "      <td>11.0</td>\n",
       "      <td>0.3125</td>\n",
       "      <td>0.899176</td>\n",
       "    </tr>\n",
       "    <tr>\n",
       "      <td>max</td>\n",
       "      <td>10838.063271</td>\n",
       "      <td>0.331000</td>\n",
       "      <td>1.25</td>\n",
       "      <td>2.5</td>\n",
       "      <td>11.0</td>\n",
       "      <td>0.3125</td>\n",
       "      <td>0.966598</td>\n",
       "    </tr>\n",
       "  </tbody>\n",
       "</table>\n",
       "</div>"
      ],
      "text/plain": [
       "                  E           mu        L       w       h          t  \\\n",
       "count   1000.000000  1000.000000  1000.00  1000.0  1000.0  1000.0000   \n",
       "mean   10488.752780     0.325243     1.25     2.5    11.0     0.3125   \n",
       "std      119.872738     0.006611     0.00     0.0     0.0     0.0000   \n",
       "min    10127.396676     0.288659     1.25     2.5    11.0     0.3125   \n",
       "25%    10402.545665     0.322368     1.25     2.5    11.0     0.3125   \n",
       "50%    10486.724421     0.327665     1.25     2.5    11.0     0.3125   \n",
       "75%    10568.490970     0.330096     1.25     2.5    11.0     0.3125   \n",
       "max    10838.063271     0.331000     1.25     2.5    11.0     0.3125   \n",
       "\n",
       "          g_buckle  \n",
       "count  1000.000000  \n",
       "mean      0.878537  \n",
       "std       0.030741  \n",
       "min       0.786077  \n",
       "25%       0.857191  \n",
       "50%       0.878986  \n",
       "75%       0.899176  \n",
       "max       0.966598  "
      ]
     },
     "execution_count": 12,
     "metadata": {},
     "output_type": "execute_result"
    }
   ],
   "source": [
    "df_mc = md_plate >> gr.ev_monte_carlo(n=1e3, df_det=\"nom\")\n",
    "df_mc.describe()"
   ]
  },
  {
   "cell_type": "markdown",
   "metadata": {},
   "source": [
    "# Bibliography\n",
    "\n",
    "---\n",
    "\n",
    "[1] David J Peery. Aircraft structures. Courier Corporation, 2011.\n",
    "\n",
    "[2] A. H. Stang, M. Greenspan, and S. B. Newman, Journal of Research of the National Bureau of Standards 37, (1946).\n"
   ]
  }
 ],
 "metadata": {
  "kernelspec": {
   "display_name": "Python 3",
   "language": "python",
   "name": "python3"
  },
  "language_info": {
   "codemirror_mode": {
    "name": "ipython",
    "version": 3
   },
   "file_extension": ".py",
   "mimetype": "text/x-python",
   "name": "python",
   "nbconvert_exporter": "python",
   "pygments_lexer": "ipython3",
   "version": "3.7.4"
  }
 },
 "nbformat": 4,
 "nbformat_minor": 4
}

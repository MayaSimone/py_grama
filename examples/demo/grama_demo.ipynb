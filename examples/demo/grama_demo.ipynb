{
 "cells": [
  {
   "cell_type": "markdown",
   "metadata": {},
   "source": [
    "# grama Demo\n",
    "\n",
    "---\n",
    "\n",
    "`grama` is a *grammar of model analysis*---a language for describing and analyzing mathematical models. Heavily inspired by [ggplot](https://ggplot2.tidyverse.org/index.html), py_grama is a Python package that provides tools for defining and exploring models. This notebook illustrates how one can use grama."
   ]
  },
  {
   "cell_type": "code",
   "execution_count": null,
   "metadata": {},
   "outputs": [],
   "source": [
    "### Setup\n",
    "from dfply import *\n",
    "import grama as gr\n",
    "import numpy as np\n",
    "import pandas as pd\n",
    "import seaborn as sns"
   ]
  },
  {
   "cell_type": "markdown",
   "metadata": {},
   "source": [
    "# Quick Tour: Analyzing a model\n",
    "\n",
    "---\n",
    "\n",
    "`grama` separates the model *definition* from model *analysis*; once the model is fully defined, only minimal information is necessary for further analysis.\n",
    "\n",
    "As a quick demonstration, we import a fully-defined model provided with `grama`, and carry out a few analyses."
   ]
  },
  {
   "cell_type": "code",
   "execution_count": null,
   "metadata": {},
   "outputs": [],
   "source": [
    "from grama.models import make_cantilever_beam\n",
    "\n",
    "model_beam = make_cantilever_beam()\n",
    "model_beam.printpretty()"
   ]
  },
  {
   "cell_type": "markdown",
   "metadata": {},
   "source": [
    "A `grama` model has **functions** and **inputs**:  The method `printpretty()` gives a quick summary of the model's inputs and function outputs. Model inputs are organized into:\n",
    "\n",
    "|            | Deterministic | Random     |\n",
    "| ---------- | ------------- | ---------- |\n",
    "| Variables  | `var_det`     | `var_rand` |\n",
    "| Parameters | `d_param`     | (Future*)  |\n",
    "\n",
    "- **Variables** are inputs to the model's functions\n",
    "  + **Deterministic** variables are chosen by the user; the model above has `w, t`\n",
    "  + **Random** variables are not controlled; the model above has `H, V, E, Y`\n",
    "- **Parameters** define random variables\n",
    "  + **Deterministic** parameters are currently implemented; these are listed under `var_rand` with their associated random variable\n",
    "  + **Random** parameters* are not yet implemented\n",
    "\n",
    "The `outputs` section lists the various model outputs. The model above has `c_area, g_stress, g_displacement`.\n",
    "\n",
    "## Studying model behavior with uncertainty\n",
    "\n",
    "Since the model has sources of randomness (`var_rand`), we must account for this when studying its behavior. We can do so through a Monte Carlo analysis. We make decisions about the deterministic inputs by specifying `df_det`, and the `grama` function `gr.ev_monte_carlo` automatically handles the random inputs. Below we fix a nominal value `w = 0.5 * (2 + 4)`, sweep over values for `t`, and account for the randomness via Monte Carlo."
   ]
  },
  {
   "cell_type": "code",
   "execution_count": null,
   "metadata": {},
   "outputs": [],
   "source": [
    "df_beam_det = pd.DataFrame(\n",
    "    data={\n",
    "        \"w\": [0.5 * (2 + 4)] * 10,\n",
    "        \"t\": np.linspace(2.5, 3, num=10)\n",
    "    }\n",
    ")\n",
    "\n",
    "df_beam_mc = \\\n",
    "    model_beam >> \\\n",
    "    gr.ev_monte_carlo(n=1e2, df_det=df_beam_det)"
   ]
  },
  {
   "cell_type": "markdown",
   "metadata": {},
   "source": [
    "To help plot the data, we use `dfply` to wrange the data, and `seaborn` to quickly visualize results."
   ]
  },
  {
   "cell_type": "code",
   "execution_count": null,
   "metadata": {},
   "outputs": [],
   "source": [
    "df_beam_wrangled = \\\n",
    "    df_beam_mc >> \\\n",
    "    gather(\"output\", \"y\", [\"c_area\", \"g_stress\", \"g_displacement\"])\n",
    "\n",
    "g = sns.FacetGrid(df_beam_wrangled, col=\"output\", sharey=False)\n",
    "g.map(sns.lineplot, \"t\", \"y\")"
   ]
  },
  {
   "cell_type": "markdown",
   "metadata": {},
   "source": [
    "From this plot, we can see:\n",
    "\n",
    "- The random variables have no effect on `c_area`\n",
    "- Comparing `g_stress` and `g_displacement`, the former is more strongly affected by the random inputs, as illustrated by its wider uncertainty band.\n",
    "\n",
    "## Probing random variable effects\n",
    "\n",
    "One way to quantify the effects of random variables is through *Sobol' indices*, which quantify variable importance by the fraction of output variance \"explained\" by each random variable. Since distribution information is included in the model, we can carry out a *hybrid-point Monte Carlo* and analyze the results with two calls to `grama`."
   ]
  },
  {
   "cell_type": "code",
   "execution_count": null,
   "metadata": {},
   "outputs": [],
   "source": [
    "df_sobol = model_beam >> \\\n",
    "    gr.ev_hybrid(n_samples=1e3, df_det=\"nom\", seed=101) >> \\\n",
    "    gr.tf_sobol()\n",
    "df_sobol >> \\\n",
    "    select(X.g_stress, X.g_displacement, X.ind) >> \\\n",
    "    mask(str_detect(X.ind, \"S_\"))"
   ]
  },
  {
   "cell_type": "markdown",
   "metadata": {},
   "source": [
    "These results suggest that `g_stress` is largely insensitive to `E`, while `g_displacement` is insensitive to `Y`. For `g_displacement`, the input `V` contributes about three times the variance as variables `H,E`.\n",
    "\n",
    "To get a *qualitative* sense of how the random variables affect our model, we can perform a set of sweeps over random variable space with a *sinew* design. `grama` generates the design, then we use `dfply` to wrangle the data for plotting."
   ]
  },
  {
   "cell_type": "code",
   "execution_count": null,
   "metadata": {},
   "outputs": [],
   "source": [
    "df_beam_sweeps = \\\n",
    "    model_beam >> \\\n",
    "    gr.ev_sinews(n_density=50, n_sweeps=10, df_det=\"nom\")"
   ]
  },
  {
   "cell_type": "markdown",
   "metadata": {},
   "source": [
    "First, we visualize the design in the four-dimensional random variable space of `[H,V,E,Y]`."
   ]
  },
  {
   "cell_type": "code",
   "execution_count": null,
   "metadata": {},
   "outputs": [],
   "source": [
    "sns.pairplot(\n",
    "    data=df_beam_sweeps,\n",
    "    vars=model_beam.var_rand,\n",
    "    hue=\"sweep_ind\"\n",
    ")"
   ]
  },
  {
   "cell_type": "markdown",
   "metadata": {},
   "source": [
    "Here we can see the sweeps cross the domain in straight lines at random starting locations. Each of these sweeps gives us a \"straight shot\" within a single variable. Visualizing the outputs for these sweeps will give us a sense of a single variable's influence, contextualized by the effects of the other random variables."
   ]
  },
  {
   "cell_type": "code",
   "execution_count": null,
   "metadata": {},
   "outputs": [],
   "source": [
    "sns.relplot(\n",
    "    data=df_beam_sweeps >> \\\n",
    "        gather(\"input\", \"x\", model_beam.var_rand) >> \\\n",
    "        gather(\"output\", \"y\", model_beam.outputs) >> \\\n",
    "        mask(X.sweep_var == X.input),\n",
    "    x=\"x\",\n",
    "    y=\"y\",\n",
    "    hue=\"sweep_ind\",\n",
    "    col=\"input\",\n",
    "    row=\"output\",\n",
    "    kind=\"line\",\n",
    "    facet_kws=dict(sharex=False, sharey=False)\n",
    ")"
   ]
  },
  {
   "cell_type": "markdown",
   "metadata": {},
   "source": [
    "Based on this plot, we can see:\n",
    "\n",
    "- The output `c_area` is insensitive to all the random variables\n",
    "- As the Sobol' analyis above suggested `g_stress` is insensitive to `E`, and `g_displacement` is insensitive to `Y`\n",
    "- Visualizing the results shows that inputs `H,E` tend to 'saturate' in their effects on `g_displacement`, while `V` is linear over its domain. This may explain the difference in contributed variance\n",
    "\n",
    "---\n",
    "\n",
    "## Defining a Model"
   ]
  }
 ],
 "metadata": {
  "kernelspec": {
   "display_name": "Python 3",
   "language": "python",
   "name": "python3"
  },
  "language_info": {
   "codemirror_mode": {
    "name": "ipython",
    "version": 3
   },
   "file_extension": ".py",
   "mimetype": "text/x-python",
   "name": "python",
   "nbconvert_exporter": "python",
   "pygments_lexer": "ipython3",
   "version": "3.7.1"
  }
 },
 "nbformat": 4,
 "nbformat_minor": 4
}

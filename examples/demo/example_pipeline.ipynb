{
 "cells": [
  {
   "cell_type": "markdown",
   "metadata": {},
   "source": [
    "# Buckling Plate Demo\n",
    "\n",
    "# (User Need: Big Picture)"
   ]
  },
  {
   "cell_type": "code",
   "execution_count": null,
   "metadata": {},
   "outputs": [],
   "source": [
    "## Initialize the package\n",
    "import grama as gr"
   ]
  },
  {
   "cell_type": "markdown",
   "metadata": {},
   "source": [
    "### Buckling Plate\n",
    "\n",
    "![Plate](./plate_free_sides.png)\n",
    "\n",
    "(Peery, 1950)"
   ]
  },
  {
   "cell_type": "markdown",
   "metadata": {},
   "source": [
    "### Implement Governing Equation\n",
    "\n",
    "$$g_{\\text{buckle}} = \\frac{\\pi^2 E}{12 (1 - \\mu^2)}\\left(\\frac{t}{h}\\right)^2 - \\frac{L}{wt}$$"
   ]
  },
  {
   "cell_type": "code",
   "execution_count": null,
   "metadata": {},
   "outputs": [],
   "source": [
    "## Implement governing equation\n",
    "pi = 3.14159\n",
    "\n",
    "def g_buckle(x):\n",
    "    t, w, h, E, mu, L = x\n",
    "    \n",
    "    return pi**2 * E / 12. / (1 - mu**2) * (t / h) ** 2 - L / (w * t)\n",
    "\n",
    "var_list = [\"t\", \"w\", \"h\", \"E\", \"mu\", \"L\"]"
   ]
  },
  {
   "cell_type": "markdown",
   "metadata": {},
   "source": [
    "### Study Data"
   ]
  },
  {
   "cell_type": "code",
   "execution_count": null,
   "metadata": {},
   "outputs": [],
   "source": [
    "## Import data for the model\n",
    "from grama.data import df_stang\n",
    "## Import plotting tools\n",
    "import seaborn as sns\n",
    "## Plot the data\n",
    "sns.pairplot(df_stang[[\"E\", \"mu\"]]) # Elasticity and poisson ratio"
   ]
  },
  {
   "cell_type": "markdown",
   "metadata": {},
   "source": [
    "### Build Model"
   ]
  },
  {
   "cell_type": "code",
   "execution_count": null,
   "metadata": {},
   "outputs": [],
   "source": [
    "## Build the model\n",
    "md_plate = \\\n",
    "    gr.Model(\"Plate under buckling load\") >> \\\n",
    "    gr.cp_function(\n",
    "        fun=g_buckle,    # (above)\n",
    "        var=var_list,    # (above)\n",
    "        out=[\"g_buckle\"] # Output name\n",
    "    ) >> \\\n",
    "    gr.cp_bounds( # Deterministic variables\n",
    "        t=(0.03, 0.12),      # Thickness\n",
    "        w=(6, 18),           # Width\n",
    "        h=(6, 18),           # Height\n",
    "        L=(1.28e-3, 1.28e-3) # Load\n",
    "    ) >> \\\n",
    "    gr.cp_marginals( # Random variables\n",
    "        E=gr.continuous_fit(df_stang.E, \"norm\"),\n",
    "        mu=gr.continuous_fit(df_stang.mu, \"beta\")\n",
    "    ) >> \\\n",
    "    gr.cp_copula_gaussian(df_data=df_stang) # Dependence\n",
    "    \n",
    "md_plate.printpretty()"
   ]
  },
  {
   "cell_type": "markdown",
   "metadata": {},
   "source": [
    "### Analyze Model Uncertainty"
   ]
  },
  {
   "cell_type": "code",
   "execution_count": null,
   "metadata": {},
   "outputs": [],
   "source": [
    "## Analyze the model\n",
    "md_plate >> \\\n",
    "    gr.ev_monte_carlo(n=100, df_det=\"nom\") >> \\\n",
    "    gr.pt_auto()"
   ]
  }
 ],
 "metadata": {
  "kernelspec": {
   "display_name": "Python 3",
   "language": "python",
   "name": "python3"
  },
  "language_info": {
   "codemirror_mode": {
    "name": "ipython",
    "version": 3
   },
   "file_extension": ".py",
   "mimetype": "text/x-python",
   "name": "python",
   "nbconvert_exporter": "python",
   "pygments_lexer": "ipython3",
   "version": "3.7.4"
  }
 },
 "nbformat": 4,
 "nbformat_minor": 4
}

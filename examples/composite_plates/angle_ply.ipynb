{
 "cells": [
  {
   "cell_type": "markdown",
   "metadata": {},
   "source": [
    "# Angle Ply Laminate\n",
    "\n",
    "---\n",
    "\n"
   ]
  },
  {
   "cell_type": "code",
   "execution_count": null,
   "metadata": {},
   "outputs": [],
   "source": [
    "from dfply import *\n",
    "import grama as gr\n",
    "import matplotlib.pyplot as plt\n",
    "import numpy as np\n",
    "import seaborn as sns\n",
    "\n",
    "## Full DataFrame view\n",
    "pd.set_option('display.max_rows', 500)\n",
    "pd.set_option('display.max_columns', 500)\n",
    "\n",
    "from grama.models import make_composite_plate_tension\n",
    "model = make_composite_plate_tension([-np.pi/4, +np.pi/4])"
   ]
  },
  {
   "cell_type": "code",
   "execution_count": null,
   "metadata": {},
   "outputs": [],
   "source": [
    "model.printpretty()"
   ]
  },
  {
   "cell_type": "markdown",
   "metadata": {},
   "source": [
    "This model has a large number of random variables, but no deterministic variables.\n",
    "\n",
    "Let's generate sinew data to begin exploring this model."
   ]
  },
  {
   "cell_type": "code",
   "execution_count": null,
   "metadata": {},
   "outputs": [],
   "source": [
    "df_sweeps = model >> gr.ev_sinews(n_sweeps=10, df_det=\"nom\")\n",
    "df_sweeps.describe()"
   ]
  },
  {
   "cell_type": "markdown",
   "metadata": {},
   "source": [
    "Observations:\n",
    "\n",
    "- Among the limit states (outputs)\n",
    "  + The longitudinal (11) `tension` states are largely non-critical (positive)\n",
    "  + The transverse (22) `tension` states and `shear` states are frequently critical (negative)\n",
    "  \n",
    "Note however that a sinew design is not a Monte Carlo; the design above is not drawn from the distribution.\n",
    "  \n",
    "We can tell a lot more by visualizing these data."
   ]
  },
  {
   "cell_type": "code",
   "execution_count": null,
   "metadata": {},
   "outputs": [],
   "source": [
    "df_melted = \\\n",
    "    df_sweeps >> \\\n",
    "    gather(\"input\", \"x\", model.var_rand) >> \\\n",
    "    gather(\"output\", \"y\", model.outputs) >> \\\n",
    "    filter_by(X.sweep_var == X.input)\n",
    "\n",
    "sns.relplot(\n",
    "    data=df_melted,\n",
    "    x=\"x\",\n",
    "    y=\"y\",\n",
    "    hue=\"sweep_ind\",\n",
    "    col=\"input\",\n",
    "    row=\"output\",\n",
    "    kind=\"line\",\n",
    "    facet_kws=dict(sharex=False, sharey=False)\n",
    ")\n",
    "plt.savefig(\"./sweeps_full.png\")"
   ]
  },
  {
   "cell_type": "markdown",
   "metadata": {},
   "source": [
    "This full sinew plot is a bit overwhelming; I save a local copy for zooming. Observations:\n",
    "\n",
    "- A number of the limit states are fairly nonlinear; it is difficult to tell which from the zoomed-out version.\n",
    "\n",
    "Sinew plots can be useful for debugging a model during development; the following plot focuses on the limit states and critical stresses for a single ply. If the model is implemented correctly the effects should be *diagonal*, in the sense that each critical stress should only have an affect on its associated limit state. Furthermore, each effect should be linear with slope one."
   ]
  },
  {
   "cell_type": "code",
   "execution_count": null,
   "metadata": {},
   "outputs": [],
   "source": [
    "df_lam0 = \\\n",
    "    df_melted >> \\\n",
    "    filter_by(\n",
    "        (X.input == \"sigma_11_t_0\") |\n",
    "        (X.input == \"sigma_22_t_0\") |\n",
    "        (X.input == \"sigma_11_c_0\") |\n",
    "        (X.input == \"sigma_22_c_0\") |\n",
    "        (X.input == \"sigma_12_s_0\"),\n",
    "        (X.output == \"g_11_tension_0\") |\n",
    "        (X.output == \"g_22_tension_0\") |\n",
    "        (X.output == \"g_11_compression_0\") |\n",
    "        (X.output == \"g_22_compression_0\") |\n",
    "        (X.output == \"g_12_shear_0\")\n",
    "    )\n",
    "\n",
    "sns.relplot(\n",
    "    data=df_lam0,\n",
    "    x=\"x\",\n",
    "    y=\"y\",\n",
    "    hue=\"sweep_ind\",\n",
    "    col=\"input\",\n",
    "    row=\"output\",\n",
    "    kind=\"line\",\n",
    "    facet_kws=dict(sharex=False, sharey=False)\n",
    ")"
   ]
  },
  {
   "cell_type": "markdown",
   "metadata": {},
   "source": [
    "Here we can see the diagonal relationship, as expected.\n",
    "\n",
    "From inspecting the full sinew plot, it appears the shear modulii `g_12_shear_i` have a strange cross-effect:"
   ]
  },
  {
   "cell_type": "code",
   "execution_count": null,
   "metadata": {},
   "outputs": [],
   "source": [
    "df_shear = \\\n",
    "    df_melted >> \\\n",
    "    filter_by(\n",
    "        (X.input == \"G12_0\") |\n",
    "        (X.input == \"G12_1\"),\n",
    "        (X.output == \"g_12_shear_0\") |\n",
    "        (X.output == \"g_12_shear_1\")\n",
    "    )\n",
    "\n",
    "sns.relplot(\n",
    "    data=df_shear,\n",
    "    x=\"x\",\n",
    "    y=\"y\",\n",
    "    hue=\"sweep_ind\",\n",
    "    col=\"input\",\n",
    "    row=\"output\",\n",
    "    kind=\"line\",\n",
    "    facet_kws=dict(sharex=False, sharey=False)\n",
    ")"
   ]
  },
  {
   "cell_type": "markdown",
   "metadata": {},
   "source": [
    "Observations:\n",
    "\n",
    "- The shear modulus `g_12_shear_i` **decreases** the associated limit state `g_12_shear_i`\n",
    "- The shear modulus `g_12_shear_i` **increases** the cross-associated limit state `g_12_shear_j`\n",
    "\n",
    "Stiffening one ply causes that ply to take more of the total load, which reduces the load on the other ply. This explains the opposite effects observed above.\n",
    "\n",
    "---\n",
    "\n",
    "From close inspection of the full sinew plot, it appears the effect of certain variables switch across different sinews:"
   ]
  },
  {
   "cell_type": "code",
   "execution_count": null,
   "metadata": {},
   "outputs": [],
   "source": [
    "df_shear = \\\n",
    "    df_melted >> \\\n",
    "    filter_by(\n",
    "        (X.input == \"G12_0\") |\n",
    "        (X.input == \"G12_1\"),\n",
    "        (X.output == \"g_11_tension_0\") |\n",
    "        (X.output == \"g_11_tension_1\")\n",
    "    )\n",
    "\n",
    "sns.relplot(\n",
    "    data=df_shear,\n",
    "    x=\"x\",\n",
    "    y=\"y\",\n",
    "    hue=\"sweep_ind\",\n",
    "    col=\"input\",\n",
    "    row=\"output\",\n",
    "    kind=\"line\",\n",
    "    facet_kws=dict(sharex=False, sharey=False)\n",
    ")"
   ]
  },
  {
   "cell_type": "markdown",
   "metadata": {},
   "source": [
    "Here we can see the shear modulii `G12_i` have an effect on the opposite ply `tension` that can change in sign depending on the values of the other random variables. Thus the shear modulii have a **non-monotone** effect on the longitudinal tension limit state."
   ]
  }
 ],
 "metadata": {
  "kernelspec": {
   "display_name": "Python 3",
   "language": "python",
   "name": "python3"
  },
  "language_info": {
   "codemirror_mode": {
    "name": "ipython",
    "version": 3
   },
   "file_extension": ".py",
   "mimetype": "text/x-python",
   "name": "python",
   "nbconvert_exporter": "python",
   "pygments_lexer": "ipython3",
   "version": "3.7.1"
  }
 },
 "nbformat": 4,
 "nbformat_minor": 4
}

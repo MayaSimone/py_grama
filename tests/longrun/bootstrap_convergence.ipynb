{
 "cells": [
  {
   "cell_type": "markdown",
   "metadata": {},
   "source": [
    "# Bootstrap Convergence\n",
    "\n",
    "---\n",
    "\n",
    "This is a convergence study of the `eval_bootstrap()` utility."
   ]
  },
  {
   "cell_type": "code",
   "execution_count": null,
   "metadata": {},
   "outputs": [],
   "source": [
    "import grama as gr\n",
    "import numpy as np\n",
    "import pandas as pd\n",
    "import time\n",
    "\n",
    "## Setup\n",
    "np.random.seed(101)\n",
    "\n",
    "# Script settings\n",
    "mu_true = 0\n",
    "CON = 0.90\n",
    "\n",
    "df = pd.DataFrame(\n",
    "    data=dict(\n",
    "        X=np.random.normal(size=100, loc=mu_true)\n",
    "    )\n",
    ")\n",
    "\n",
    "## Helper functions\n",
    "def tran_mean(df):\n",
    "    return pd.DataFrame(dict(\n",
    "        mu=[np.mean(df.X)]\n",
    "    ))\n",
    "\n",
    "def do_boot(n_boot, n_sub, seed=101):\n",
    "    return gr.tran_bootstrap(\n",
    "        df,\n",
    "        tran=tran_mean,\n",
    "        n_boot=n_boot,\n",
    "        n_sub=n_sub,\n",
    "        seed=seed,\n",
    "        con=CON\n",
    "    )\n",
    "\n",
    "def is_cov(df_res):\n",
    "    return ((df_res.mu_lo < mu_true) & (mu_true < df_res.mu_up))[0]"
   ]
  },
  {
   "cell_type": "code",
   "execution_count": null,
   "metadata": {},
   "outputs": [],
   "source": [
    "# Loop settings\n",
    "N_BOOT_ALL = [100, 1000]\n",
    "N_SUB_ALL = [10, 25, 50]\n",
    "N_REPL = 40\n",
    "\n",
    "# Reserve space\n",
    "BOOL_ALL = np.zeros((len(N_BOOT_ALL), len(N_SUB_ALL), N_REPL))\n",
    "LO_ALL   = np.zeros((len(N_BOOT_ALL), len(N_SUB_ALL), N_REPL))\n",
    "UP_ALL   = np.zeros((len(N_BOOT_ALL), len(N_SUB_ALL), N_REPL))\n",
    "\n",
    "t0 = time.time()\n",
    "for ind, n_boot in enumerate(N_BOOT_ALL):\n",
    "    for jnd, n_sub in enumerate(N_SUB_ALL):\n",
    "        for knd in range(N_REPL):\n",
    "            df_tmp = do_boot(n_boot, n_sub, seed=101 + knd)\n",
    "            LO_ALL[ind, jnd, knd] = df_tmp.mu_lo[0]\n",
    "            UP_ALL[ind, jnd, knd] = df_tmp.mu_up[0]\n",
    "            BOOL_ALL[ind, jnd, knd] = is_cov(df_tmp)\n",
    "t1 = time.time()\n",
    "\n",
    "print(\"Execution time: {} sec\".format(t1 - t0))"
   ]
  },
  {
   "cell_type": "code",
   "execution_count": null,
   "metadata": {},
   "outputs": [],
   "source": [
    "df_results = pd.DataFrame(\n",
    "    data=np.mean(BOOL_ALL, axis=2),\n",
    "    columns=N_SUB_ALL\n",
    ")\n",
    "df_results[\"Nb\"] = N_BOOT_ALL\n",
    "gr.tran_gather(df=df_results, key=\"Ns\", value=\"coverage\", cols=N_SUB_ALL)\n"
   ]
  }
 ],
 "metadata": {
  "kernelspec": {
   "display_name": "Python 3",
   "language": "python",
   "name": "python3"
  },
  "language_info": {
   "codemirror_mode": {
    "name": "ipython",
    "version": 3
   },
   "file_extension": ".py",
   "mimetype": "text/x-python",
   "name": "python",
   "nbconvert_exporter": "python",
   "pygments_lexer": "ipython3",
   "version": "3.7.4"
  }
 },
 "nbformat": 4,
 "nbformat_minor": 4
}

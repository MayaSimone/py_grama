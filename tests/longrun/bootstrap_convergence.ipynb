{
 "cells": [
  {
   "cell_type": "markdown",
   "metadata": {},
   "source": [
    "# Bootstrap Convergence\n",
    "\n",
    "---\n",
    "\n",
    "This is a convergence study of the `eval_bootstrap` utility. The purpose of this document is twofold:\n",
    "\n",
    "1. Demonstrate correctness of the `eval_bootstrap` utility; this is an exercise far too expensive to include in automated unit testing.\n",
    "2. Set reasonable default values for `eval_bootstrap`, particularly `con, n_boot, n_sub`."
   ]
  },
  {
   "cell_type": "code",
   "execution_count": 26,
   "metadata": {},
   "outputs": [],
   "source": [
    "import grama as gr\n",
    "import matplotlib.pyplot as plt\n",
    "import numpy as np\n",
    "import pandas as pd\n",
    "import seaborn as sns\n",
    "import time\n",
    "\n",
    "from statsmodels.stats.proportion import proportion_confint"
   ]
  },
  {
   "cell_type": "markdown",
   "metadata": {},
   "source": [
    "Here we set up a very simple reference problem; estimating the true mean with the sample mean. We define `tran_mean` as the sample mean, which we will pass to `tran_bootstrap`. "
   ]
  },
  {
   "cell_type": "code",
   "execution_count": 1,
   "metadata": {},
   "outputs": [],
   "source": [
    "## Setup\n",
    "np.random.seed(101)\n",
    "\n",
    "# Script settings\n",
    "mu_true = 0\n",
    "CON = 0.90\n",
    "\n",
    "df = pd.DataFrame(\n",
    "    data=dict(\n",
    "        X=np.random.normal(size=100, loc=mu_true)\n",
    "    )\n",
    ")\n",
    "\n",
    "## Helper functions\n",
    "def tran_mean(df):\n",
    "    return pd.DataFrame(dict(\n",
    "        mu=[np.mean(df.X)]\n",
    "    ))\n",
    "\n",
    "def do_boot(n_boot, n_sub, seed=101):\n",
    "    return gr.tran_bootstrap(\n",
    "        df,\n",
    "        tran=tran_mean,\n",
    "        n_boot=n_boot,\n",
    "        n_sub=n_sub,\n",
    "        seed=seed,\n",
    "        con=CON\n",
    "    )\n",
    "\n",
    "def is_cov(df_res):\n",
    "    return ((df_res.mu_lo < mu_true) & (mu_true < df_res.mu_up))[0]"
   ]
  },
  {
   "cell_type": "markdown",
   "metadata": {},
   "source": [
    "### Generate Data\n",
    "\n",
    "The following is the main loop, where we select sample sizes for `tran_bootstrap` to test, perform many replications, "
   ]
  },
  {
   "cell_type": "code",
   "execution_count": 2,
   "metadata": {},
   "outputs": [
    {
     "name": "stdout",
     "output_type": "stream",
     "text": [
      "Execution time: 14593.471640825272 sec\n"
     ]
    }
   ],
   "source": [
    "# Loop settings\n",
    "N_BOOT_ALL = [100, 500, 1000]\n",
    "N_SUB_ALL = [10, 25, 50]\n",
    "N_REPL = 100\n",
    "\n",
    "# Reserve space\n",
    "BOOL_ALL = np.zeros((len(N_BOOT_ALL), len(N_SUB_ALL), N_REPL))\n",
    "LO_ALL   = np.zeros((len(N_BOOT_ALL), len(N_SUB_ALL), N_REPL))\n",
    "UP_ALL   = np.zeros((len(N_BOOT_ALL), len(N_SUB_ALL), N_REPL))\n",
    "\n",
    "t0 = time.time()\n",
    "for ind, n_boot in enumerate(N_BOOT_ALL):\n",
    "    for jnd, n_sub in enumerate(N_SUB_ALL):\n",
    "        for knd in range(N_REPL):\n",
    "            df_tmp = do_boot(n_boot, n_sub, seed=101 + knd)\n",
    "            LO_ALL[ind, jnd, knd] = df_tmp.mu_lo[0]\n",
    "            UP_ALL[ind, jnd, knd] = df_tmp.mu_up[0]\n",
    "            BOOL_ALL[ind, jnd, knd] = is_cov(df_tmp)\n",
    "t1 = time.time()\n",
    "\n",
    "print(\"Execution time: {} sec\".format(t1 - t0))"
   ]
  },
  {
   "cell_type": "markdown",
   "metadata": {},
   "source": [
    "### Post-process"
   ]
  },
  {
   "cell_type": "code",
   "execution_count": 24,
   "metadata": {},
   "outputs": [
    {
     "data": {
      "text/html": [
       "<div>\n",
       "<style scoped>\n",
       "    .dataframe tbody tr th:only-of-type {\n",
       "        vertical-align: middle;\n",
       "    }\n",
       "\n",
       "    .dataframe tbody tr th {\n",
       "        vertical-align: top;\n",
       "    }\n",
       "\n",
       "    .dataframe thead th {\n",
       "        text-align: right;\n",
       "    }\n",
       "</style>\n",
       "<table border=\"1\" class=\"dataframe\">\n",
       "  <thead>\n",
       "    <tr style=\"text-align: right;\">\n",
       "      <th></th>\n",
       "      <th>Nb</th>\n",
       "      <th>Ns</th>\n",
       "      <th>coverage</th>\n",
       "      <th>lo</th>\n",
       "      <th>up</th>\n",
       "    </tr>\n",
       "  </thead>\n",
       "  <tbody>\n",
       "    <tr>\n",
       "      <td>0</td>\n",
       "      <td>100</td>\n",
       "      <td>10</td>\n",
       "      <td>0.77</td>\n",
       "      <td>0.687518</td>\n",
       "      <td>0.852482</td>\n",
       "    </tr>\n",
       "    <tr>\n",
       "      <td>1</td>\n",
       "      <td>500</td>\n",
       "      <td>10</td>\n",
       "      <td>0.96</td>\n",
       "      <td>0.921593</td>\n",
       "      <td>0.998407</td>\n",
       "    </tr>\n",
       "    <tr>\n",
       "      <td>2</td>\n",
       "      <td>1000</td>\n",
       "      <td>10</td>\n",
       "      <td>1.00</td>\n",
       "      <td>1.000000</td>\n",
       "      <td>1.000000</td>\n",
       "    </tr>\n",
       "    <tr>\n",
       "      <td>3</td>\n",
       "      <td>100</td>\n",
       "      <td>25</td>\n",
       "      <td>0.59</td>\n",
       "      <td>0.493602</td>\n",
       "      <td>0.686398</td>\n",
       "    </tr>\n",
       "    <tr>\n",
       "      <td>4</td>\n",
       "      <td>500</td>\n",
       "      <td>25</td>\n",
       "      <td>0.87</td>\n",
       "      <td>0.804086</td>\n",
       "      <td>0.935914</td>\n",
       "    </tr>\n",
       "    <tr>\n",
       "      <td>5</td>\n",
       "      <td>1000</td>\n",
       "      <td>25</td>\n",
       "      <td>0.91</td>\n",
       "      <td>0.853909</td>\n",
       "      <td>0.966091</td>\n",
       "    </tr>\n",
       "    <tr>\n",
       "      <td>6</td>\n",
       "      <td>100</td>\n",
       "      <td>50</td>\n",
       "      <td>0.61</td>\n",
       "      <td>0.514403</td>\n",
       "      <td>0.705597</td>\n",
       "    </tr>\n",
       "    <tr>\n",
       "      <td>7</td>\n",
       "      <td>500</td>\n",
       "      <td>50</td>\n",
       "      <td>0.66</td>\n",
       "      <td>0.567155</td>\n",
       "      <td>0.752845</td>\n",
       "    </tr>\n",
       "    <tr>\n",
       "      <td>8</td>\n",
       "      <td>1000</td>\n",
       "      <td>50</td>\n",
       "      <td>0.80</td>\n",
       "      <td>0.721601</td>\n",
       "      <td>0.878399</td>\n",
       "    </tr>\n",
       "  </tbody>\n",
       "</table>\n",
       "</div>"
      ],
      "text/plain": [
       "     Nb  Ns  coverage        lo        up\n",
       "0   100  10      0.77  0.687518  0.852482\n",
       "1   500  10      0.96  0.921593  0.998407\n",
       "2  1000  10      1.00  1.000000  1.000000\n",
       "3   100  25      0.59  0.493602  0.686398\n",
       "4   500  25      0.87  0.804086  0.935914\n",
       "5  1000  25      0.91  0.853909  0.966091\n",
       "6   100  50      0.61  0.514403  0.705597\n",
       "7   500  50      0.66  0.567155  0.752845\n",
       "8  1000  50      0.80  0.721601  0.878399"
      ]
     },
     "execution_count": 24,
     "metadata": {},
     "output_type": "execute_result"
    }
   ],
   "source": [
    "df_raw = pd.DataFrame(\n",
    "    data=np.mean(BOOL_ALL, axis=2),\n",
    "    columns=N_SUB_ALL\n",
    ")\n",
    "df_raw[\"Nb\"] = N_BOOT_ALL\n",
    "df_results = gr.tran_gather(df=df_raw, key=\"Ns\", value=\"coverage\", cols=N_SUB_ALL)\n",
    "df_results = df_results.astype({'Ns': 'int32'})\n",
    "\n",
    "## Compute binomial confidence intervals\n",
    "res = proportion_confint(\n",
    "    (df_results[\"coverage\"].values * N_REPL),\n",
    "    N_REPL\n",
    ")\n",
    "lo, up = res\n",
    "df_results[\"lo\"] = lo\n",
    "df_results[\"up\"] = up\n",
    "\n",
    "df_results\n"
   ]
  },
  {
   "cell_type": "markdown",
   "metadata": {},
   "source": [
    "### Plot and analyze"
   ]
  },
  {
   "cell_type": "code",
   "execution_count": 27,
   "metadata": {},
   "outputs": [
    {
     "data": {
      "text/plain": [
       "[Text(0, 0.5, 'Empirical Coverage'), Text(0.5, 0, 'N bootstrap')]"
      ]
     },
     "execution_count": 27,
     "metadata": {},
     "output_type": "execute_result"
    },
    {
     "data": {
      "image/png": "[encoded data removed]",
      "text/plain": [
       "<Figure size 432x288 with 1 Axes>"
      ]
     },
     "metadata": {
      "needs_background": "light"
     },
     "output_type": "display_data"
    }
   ],
   "source": [
    "palette=sns.color_palette(\"hls\", 3)\n",
    "ax = sns.lineplot(\n",
    "    data=gr.tran_gather(df=df_results, key=\"type\", value=\"val\", cols=[\"coverage\", \"lo\", \"up\"]),\n",
    "    x=\"Nb\",\n",
    "    y=\"val\",\n",
    "    hue=\"Ns\",\n",
    "    style=\"type\",\n",
    "    palette=palette\n",
    ")\n",
    "ax.set(xlabel='N bootstrap', ylabel='Empirical Coverage')"
   ]
  },
  {
   "cell_type": "markdown",
   "metadata": {},
   "source": [
    "Observations:\n",
    "\n",
    "- At `n_sub = 10` coverage does not converge to our desired `0.9`, but instead approaches `1.0`. This inner-loop sample size is too small to be stable.\n",
    "- At `n_sub = 25` the coverage becomes compatible with the desired `0.9` by `n_boot = 500`.\n",
    "- At `n_sub = 50` the convergence in `n_boot` is slower. I'm not sure why this is, but perhaps there's some error cancellation occuring---if the inner-loop estimated standard errors are more stable, the resulting CI will be more narrow, so a sharper outer loop is necessary to get the bootstrap tables right.\n",
    "\n",
    "I will set the default values of `tran_bootstrap` to `con=0.90, n_boot = 500, n_sub = 25`, based on these results.\n"
   ]
  }
 ],
 "metadata": {
  "kernelspec": {
   "display_name": "Python 3",
   "language": "python",
   "name": "python3"
  },
  "language_info": {
   "codemirror_mode": {
    "name": "ipython",
    "version": 3
   },
   "file_extension": ".py",
   "mimetype": "text/x-python",
   "name": "python",
   "nbconvert_exporter": "python",
   "pygments_lexer": "ipython3",
   "version": "3.7.4"
  }
 },
 "nbformat": 4,
 "nbformat_minor": 4
}
